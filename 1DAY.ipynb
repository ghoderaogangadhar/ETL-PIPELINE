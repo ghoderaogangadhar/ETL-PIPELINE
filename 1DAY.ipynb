{
 "cells": [
  {
   "cell_type": "code",
   "execution_count": 11,
   "id": "b1918cd4-0188-49cd-a57e-bb0cf8450163",
   "metadata": {},
   "outputs": [
    {
     "name": "stdout",
     "output_type": "stream",
     "text": [
      "<class 'float'>\n",
      "<class 'int'>\n",
      "<class 'float'>\n"
     ]
    }
   ],
   "source": [
    "data_type=(type(42.))\n",
    "print(data_type)\n",
    "data_type=(type(8+5))\n",
    "print(data_type)\n",
    "data_type=(type(10.0+5))\n",
    "print(data_type)\n",
    "\n"
   ]
  },
  {
   "cell_type": "raw",
   "id": "0bc0cb73-ce34-4726-9244-f1bbb87b8728",
   "metadata": {},
   "source": []
  },
  {
   "cell_type": "code",
   "execution_count": 16,
   "id": "b5c8ccca-ae2f-4ef7-ae87-fefcc4eaf8ca",
   "metadata": {},
   "outputs": [
    {
     "name": "stdout",
     "output_type": "stream",
     "text": [
      "<class 'str'>\n",
      "<class 'float'>\n"
     ]
    }
   ],
   "source": [
    "# gate a data type\n",
    "\n",
    "print(type(\"example_string\"))\n",
    "print(data_type)"
   ]
  },
  {
   "cell_type": "code",
   "execution_count": null,
   "id": "7621157b-8016-4e71-b6b8-4c022e3b0860",
   "metadata": {},
   "outputs": [],
   "source": []
  }
 ],
 "metadata": {
  "kernelspec": {
   "display_name": "Python 3 (ipykernel)",
   "language": "python",
   "name": "python3"
  },
  "language_info": {
   "codemirror_mode": {
    "name": "ipython",
    "version": 3
   },
   "file_extension": ".py",
   "mimetype": "text/x-python",
   "name": "python",
   "nbconvert_exporter": "python",
   "pygments_lexer": "ipython3",
   "version": "3.12.7"
  }
 },
 "nbformat": 4,
 "nbformat_minor": 5
}
